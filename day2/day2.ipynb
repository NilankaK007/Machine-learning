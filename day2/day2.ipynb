{
 "cells": [
  {
   "cell_type": "code",
   "execution_count": null,
   "id": "5dfe65ce",
   "metadata": {},
   "outputs": [],
   "source": [
    "Matrix and their basic operation"
   ]
  },
  {
   "cell_type": "code",
   "execution_count": 11,
   "id": "be4558d4",
   "metadata": {},
   "outputs": [],
   "source": [
    "x=[1,2,3,4,5]"
   ]
  },
  {
   "cell_type": "code",
   "execution_count": 12,
   "id": "e317def4",
   "metadata": {},
   "outputs": [
    {
     "name": "stdout",
     "output_type": "stream",
     "text": [
      "[1 2 3 4 5]\n",
      "<class 'list'>\n"
     ]
    }
   ],
   "source": [
    "import  numpy as np\n",
    "X=np.array([1,2,3,4,5])\n",
    "print(X)\n",
    "print(type(x))"
   ]
  },
  {
   "cell_type": "code",
   "execution_count": 23,
   "id": "fc5ae2ac",
   "metadata": {},
   "outputs": [
    {
     "name": "stdout",
     "output_type": "stream",
     "text": [
      "[[1 2 3]\n",
      " [4 5 6]\n",
      " [7 8 0]]\n"
     ]
    }
   ],
   "source": [
    "m=np.array([[1,2,3],\n",
    "          [4,5,6],\n",
    "          [7,8,0]])\n",
    "print(m)"
   ]
  },
  {
   "cell_type": "code",
   "execution_count": 24,
   "id": "ee7d661f",
   "metadata": {},
   "outputs": [
    {
     "name": "stdout",
     "output_type": "stream",
     "text": [
      "Matrix transpose:\n",
      " [[1 4 7]\n",
      " [2 5 8]\n",
      " [3 6 0]] \n",
      "\n",
      "Matrix determinant:\n",
      " 27.0 \n",
      "\n",
      "Matrix Inverse:\n",
      " [[-1.77777778  0.88888889 -0.11111111]\n",
      " [ 1.55555556 -0.77777778  0.22222222]\n",
      " [-0.11111111  0.22222222 -0.11111111]] \n",
      "\n",
      "Product of matrix and its inverse:\n",
      " [[1. 0. 0.]\n",
      " [0. 1. 0.]\n",
      " [0. 0. 1.]]\n"
     ]
    }
   ],
   "source": [
    "print('Matrix transpose:\\n',m.transpose(),'\\n')\n",
    "print('Matrix determinant:\\n',np.linalg.det(m),'\\n')\n",
    "m_inv=np.linalg.inv(m)\n",
    "print('Matrix Inverse:\\n',m_inv,'\\n')\n",
    "iden_m=np.dot(m,m_inv)\n",
    "iden_m=np.round(np.abs(iden_m),0)\n",
    "print('Product of matrix and its inverse:\\n',iden_m)"
   ]
  },
  {
   "cell_type": "code",
   "execution_count": 18,
   "id": "4b30f27f",
   "metadata": {},
   "outputs": [
    {
     "name": "stdout",
     "output_type": "stream",
     "text": [
      "Eigen values [-1.79244726 11.54204466  7.2504026 ] \n",
      "\n",
      "Eigen vector:\n",
      " [[ 0.8690616  -0.34185355 -0.01965159]\n",
      " [-0.49420916 -0.37632122 -0.39239997]\n",
      " [ 0.02211857 -0.86111468  0.91958473]]\n"
     ]
    }
   ],
   "source": [
    "eigen_vals,eigen_vecs=np.linalg.eig(m)\n",
    "print('Eigen values',eigen_vals,'\\n')\n",
    "print('Eigen vector:\\n',eigen_vecs)"
   ]
  },
  {
   "cell_type": "code",
   "execution_count": 25,
   "id": "e9ca9983",
   "metadata": {},
   "outputs": [
    {
     "name": "stdout",
     "output_type": "stream",
     "text": [
      "getting svd outputs:-\n",
      "\n",
      "U:\n",
      " [[-0.23035703 -0.39607121 -0.88885501]\n",
      " [-0.60728383 -0.65520761  0.44934322]\n",
      " [-0.76035649  0.64329665 -0.08959596]] \n",
      "\n",
      "S:\n",
      " [13.20145862  5.43875711  0.37604705] \n",
      "\n",
      "VT:\n",
      " [[-0.60462923 -0.72567626 -0.32835569]\n",
      " [ 0.27325634  0.19824248 -0.94129214]\n",
      " [ 0.74816741 -0.65885802  0.07843244]] \n",
      "\n"
     ]
    }
   ],
   "source": [
    "U,S,VT=np.linalg.svd(m)\n",
    "print('getting svd outputs:-\\n')\n",
    "print('U:\\n',U,'\\n')\n",
    "print('S:\\n',S,'\\n')\n",
    "print('VT:\\n',VT,'\\n')"
   ]
  },
  {
   "cell_type": "code",
   "execution_count": 29,
   "id": "ac499291",
   "metadata": {},
   "outputs": [
    {
     "name": "stdout",
     "output_type": "stream",
     "text": [
      "[[0. 0. 0.]\n",
      " [0. 0. 0.]]\n"
     ]
    }
   ],
   "source": [
    "zeros_array=np.zeros((2,3))\n",
    "print(zeros_array)"
   ]
  },
  {
   "cell_type": "code",
   "execution_count": 30,
   "id": "b209b172",
   "metadata": {},
   "outputs": [
    {
     "name": "stdout",
     "output_type": "stream",
     "text": [
      "[[1. 1. 1. 1. 1.]]\n"
     ]
    }
   ],
   "source": [
    "ones_array=np.ones((1,5))\n",
    "print(ones_array)"
   ]
  },
  {
   "cell_type": "code",
   "execution_count": 31,
   "id": "8ace52f1",
   "metadata": {},
   "outputs": [],
   "source": [
    "import scipy as sp\n",
    "import numpy as np"
   ]
  },
  {
   "cell_type": "code",
   "execution_count": 37,
   "id": "e569b807",
   "metadata": {},
   "outputs": [
    {
     "name": "stdout",
     "output_type": "stream",
     "text": [
      "Data:  [ 6 14 13  5 16  7  5 17  8  8 17 10 19  8  4]\n"
     ]
    }
   ],
   "source": [
    "nums=np.random.randint(1,20, size=(1,15))[0]\n",
    "print('Data: ',nums)"
   ]
  },
  {
   "cell_type": "code",
   "execution_count": 50,
   "id": "2c3b02e0",
   "metadata": {},
   "outputs": [
    {
     "name": "stdout",
     "output_type": "stream",
     "text": [
      "Mean: 10.466666666666667\n",
      "Median: 8.0\n",
      "Mode: ModeResult(mode=array([8]), count=array([3]))\n",
      "Standard division: 4.8971647125885225\n",
      "Variance: 23.982222222222223\n",
      "Skew: 0.36093460567830765\n",
      "Kurtosis: -1.346008986696897\n"
     ]
    },
    {
     "name": "stderr",
     "output_type": "stream",
     "text": [
      "C:\\Users\\User\\AppData\\Local\\Temp\\ipykernel_10468\\1043519277.py:3: FutureWarning: Unlike other reduction functions (e.g. `skew`, `kurtosis`), the default behavior of `mode` typically preserves the axis it acts along. In SciPy 1.11.0, this behavior will change: the default value of `keepdims` will become False, the `axis` over which the statistic is taken will be eliminated, and the value None will no longer be accepted. Set `keepdims` to True or False to avoid this warning.\n",
      "  print('Mode:',sp.stats.mode(nums))\n"
     ]
    }
   ],
   "source": [
    "print('Mean:',np.mean(nums))\n",
    "print('Median:',np.median(nums))\n",
    "print('Mode:',sp.stats.mode(nums))\n",
    "print('Standard division:',np.std(nums))\n",
    "print('Variance:',np.var(nums))\n",
    "print('Skew:',sp.stats.skew(nums))\n",
    "print('Kurtosis:',sp.stats.kurtosis(nums))"
   ]
  },
  {
   "cell_type": "code",
   "execution_count": 51,
   "id": "297006db",
   "metadata": {},
   "outputs": [],
   "source": [
    "#ex01\n",
    "#write a code to generate 3 random integers between 100 and 999 which is divisible by 5"
   ]
  },
  {
   "cell_type": "code",
   "execution_count": 52,
   "id": "c41245dc",
   "metadata": {},
   "outputs": [],
   "source": [
    "#ex02\n",
    "#write a code to generate 100 random lottery tickets and pick two lucky tickets from it as a winner.\n",
    "#the lottery must be 10 digits long.\n",
    "#all 100 ticket number must be unique.\n",
    "#generate a random list of 1000 numbers using randarange() and then use the sample() method to pick lucky 2 tickets"
   ]
  },
  {
   "cell_type": "code",
   "execution_count": null,
   "id": "0e019abd",
   "metadata": {},
   "outputs": [],
   "source": [
    "#ex03\n",
    "#write a code to generate a random password which meets the following condition.\n",
    "#password length must be 10 characters long\n",
    "#it must contain at least 2 uppercase"
   ]
  }
 ],
 "metadata": {
  "kernelspec": {
   "display_name": "Python 3 (ipykernel)",
   "language": "python",
   "name": "python3"
  },
  "language_info": {
   "codemirror_mode": {
    "name": "ipython",
    "version": 3
   },
   "file_extension": ".py",
   "mimetype": "text/x-python",
   "name": "python",
   "nbconvert_exporter": "python",
   "pygments_lexer": "ipython3",
   "version": "3.9.13"
  }
 },
 "nbformat": 4,
 "nbformat_minor": 5
}
